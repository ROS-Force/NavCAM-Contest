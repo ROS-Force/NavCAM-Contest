{
 "cells": [
  {
   "cell_type": "markdown",
   "metadata": {},
   "source": [
    "# Objectivos C1-C4\n",
    "\n",
    "## Recolha dos dados \n",
    "\n",
    "Os dados usados para cumprir estes objectivos foram gravados no recinto da Active Space dia 7/12/2020. Consistem em gravações de ~5s a ~30fps a diversas distâncias de uma parede ou vidro em condições de iluminação semelhantes.\n",
    "\n",
    "Para obter um número elevado de medidas analisou-se uma ROI (Região de Interesse) de 25x25 píxeis, onde se admitiu que todos os píxeis teriam o mesmo valor. Para garantir que a aproximação é válida analisou-se para os casos de 20cm, 1m e 10m apenas o pixel central e compararam-se os resultados (criando uma espécie de situação de controlo).\n"
   ]
  },
  {
   "cell_type": "code",
   "execution_count": 136,
   "metadata": {
    "ExecuteTime": {
     "end_time": "2020-12-15T19:00:32.103089Z",
     "start_time": "2020-12-15T19:00:32.098828Z"
    }
   },
   "outputs": [],
   "source": [
    "#Imports\n",
    "import pandas as pd \n",
    "import numpy as np\n",
    "import matplotlib\n",
    "import matplotlib.pyplot as plt\n",
    "from os import listdir\n",
    "from os.path import isfile, join"
   ]
  },
  {
   "cell_type": "code",
   "execution_count": 137,
   "metadata": {
    "ExecuteTime": {
     "end_time": "2020-12-15T19:00:32.182963Z",
     "start_time": "2020-12-15T19:00:32.106826Z"
    }
   },
   "outputs": [],
   "source": [
    "#Data Loading\n",
    "path = \"../Files/\"\n",
    "all_files = [file for file in listdir(path) if isfile(join(path, file))] # Adiciona o nome de todos os ficheiros numa lista\n",
    "col_names = [n.split(\".\")[0] for n in all_files] # cria os nomes das colunas do Dataframe\n",
    "\n",
    "df_from_each_file = (pd.read_csv(path+f) for f in all_files)\n",
    "concatenated_df   = pd.concat(df_from_each_file, ignore_index=True, axis=1)\n",
    "\n",
    "concatenated_df.columns = col_names"
   ]
  },
  {
   "cell_type": "code",
   "execution_count": 138,
   "metadata": {
    "ExecuteTime": {
     "end_time": "2020-12-15T19:00:32.240666Z",
     "start_time": "2020-12-15T19:00:32.188211Z"
    }
   },
   "outputs": [],
   "source": [
    "#Data pre-processing\n",
    "\n",
    "\n",
    "def standardizeData(df):\n",
    "    # copy the dataframe\n",
    "    df_std = df.copy()\n",
    "    \n",
    "    for column in df_std.columns:\n",
    "        df_std[column] = (df_std[column] - df_std[column].mean()) / df_std[column].std()\n",
    "        \n",
    "    return df_std\n",
    "    \n",
    "\n",
    "std_df = standardizeData(concatenated_df) #DataFrame com os dados \"standardizados\"\n",
    "\n",
    "#calcular as medias e desvio padrao dos dados\n",
    "\n",
    "media_3m = concatenated_df[\"3m-parede\"].mean()\n",
    "std_3m = concatenated_df[\"3m-parede\"].std()\n",
    "\n",
    "media_5m = concatenated_df[\"5m-parede\"].mean()\n",
    "std_5m = concatenated_df[\"5m-parede\"].std()\n",
    "\n",
    "media_7m = concatenated_df[\"7m-parede\"].mean()\n",
    "std_7m = concatenated_df[\"7m-parede\"].std()\n",
    "\n",
    "media_7m_sl = concatenated_df[\"7m-sl-parede\"].mean()\n",
    "std_7m_sl = concatenated_df[\"7m-sl-parede\"].std()\n",
    "\n",
    "media_9m = concatenated_df[\"9m-parede\"].mean()\n",
    "std_9m = concatenated_df[\"9m-parede\"].std()\n",
    "\n",
    "#Para o vidro\n",
    "\n",
    "media_20cm_vidro= concatenated_df[\"20cm-vidro\"].mean()\n",
    "std_20cm_vidro= concatenated_df[\"20cm-vidro\"].std()\n",
    "\n",
    "media_1m_vidro= concatenated_df[\"1m-vidro\"].mean()\n",
    "std_1m_vidro= concatenated_df[\"1m-vidro\"].std()\n",
    "\n",
    "media_2m_vidro= concatenated_df[\"2m-vidro\"].mean()\n",
    "std_2m_vidro= concatenated_df[\"2m-vidro\"].std()\n",
    "\n",
    "media_5m_vidro= concatenated_df[\"5m-vidro\"].mean()\n",
    "std_5m_vidro= concatenated_df[\"5m-vidro\"].std()\n",
    "\n",
    "media_10m_vidro= concatenated_df[\"10m-vidro\"].mean()\n",
    "std_10m_vidro= concatenated_df[\"10m-vidro\"].std()\n"
   ]
  },
  {
   "cell_type": "markdown",
   "metadata": {},
   "source": [
    "### Controlo a 20cm"
   ]
  },
  {
   "cell_type": "code",
   "execution_count": 139,
   "metadata": {
    "ExecuteTime": {
     "end_time": "2020-12-15T19:00:32.942177Z",
     "start_time": "2020-12-15T19:00:32.246248Z"
    }
   },
   "outputs": [
    {
     "data": {
      "image/png": "[encoded data removed]",
      "text/plain": [
       "<Figure size 432x288 with 1 Axes>"
      ]
     },
     "metadata": {
      "needs_background": "light"
     },
     "output_type": "display_data"
    }
   ],
   "source": [
    "#Situacao Controlo a 20cm\n",
    "\n",
    "plt.hist(concatenated_df[\"30cm-control-1px\"].dropna(), bins=10, alpha=0.5, density=True, label=\"20cm Controlo\")\n",
    "plt.hist(concatenated_df[\"20cm-parede\"].dropna(), bins=10, alpha=0.5, density=True, label=\"20cm Normal\")\n",
    "plt.legend()\n",
    "plt.ylabel(' ');\n",
    "plt.xlabel('Distancia (mm)');\n",
    "\n",
    "media_20cm_control = concatenated_df[\"30cm-control-1px\"].mean()\n",
    "std_20cm_control = concatenated_df[\"30cm-control-1px\"].std()\n",
    "\n",
    "media_20cm = concatenated_df[\"20cm-parede\"].mean()\n",
    "std_20cm = concatenated_df[\"20cm-parede\"].std()\n"
   ]
  },
  {
   "cell_type": "markdown",
   "metadata": {},
   "source": [
    "\n",
    "|               | Média (mm)   | Desvio Padrão (mm)|\n",
    "| ------------- |-------------:|------------------:|\n",
    "| Controlo      | 181.68       | 0.47              |\n",
    "| ROI (25x25)   | 181.37       | 0.48              |\n"
   ]
  },
  {
   "cell_type": "markdown",
   "metadata": {},
   "source": [
    "### Controlo a 1m"
   ]
  },
  {
   "cell_type": "code",
   "execution_count": 140,
   "metadata": {
    "ExecuteTime": {
     "end_time": "2020-12-15T19:00:33.776878Z",
     "start_time": "2020-12-15T19:00:32.947444Z"
    }
   },
   "outputs": [
    {
     "data": {
      "image/png": "[encoded data removed]",
      "text/plain": [
       "<Figure size 432x288 with 1 Axes>"
      ]
     },
     "metadata": {
      "needs_background": "light"
     },
     "output_type": "display_data"
    }
   ],
   "source": [
    "#Situacao Controlo a 1m\n",
    "\n",
    "plt.hist(concatenated_df[\"1m-control-1px\"].dropna(), bins=15, alpha=0.5, density=True, label=\"1m Controlo\")\n",
    "plt.hist(concatenated_df[\"1m-parede\"].dropna(), bins=15, alpha=0.5, density=True, label=\"1m Normal\")\n",
    "plt.legend()\n",
    "plt.ylabel('Probabilidade');\n",
    "plt.xlabel('Distância (mm)');\n",
    "\n",
    "media_1m_control = concatenated_df[\"1m-control-1px\"].mean()\n",
    "std_1m_control = concatenated_df[\"1m-control-1px\"].std()\n",
    "\n",
    "media_1m = concatenated_df[\"1m-parede\"].mean()\n",
    "std_1m = concatenated_df[\"1m-parede\"].std()\n"
   ]
  },
  {
   "cell_type": "markdown",
   "metadata": {},
   "source": [
    "|               | Média (mm)   | Desvio Padrão (mm)|\n",
    "| ------------- |-------------:|------------------:|\n",
    "| Controlo      | 1040.0       | 6.29              |\n",
    "| ROI (25x25)   | 1038.1       | 6.75              |\n"
   ]
  },
  {
   "cell_type": "markdown",
   "metadata": {},
   "source": [
    "### Controlo a 10m"
   ]
  },
  {
   "cell_type": "code",
   "execution_count": 141,
   "metadata": {
    "ExecuteTime": {
     "end_time": "2020-12-15T19:00:34.329653Z",
     "start_time": "2020-12-15T19:00:33.782700Z"
    }
   },
   "outputs": [
    {
     "data": {
      "image/png": "[encoded data removed]",
      "text/plain": [
       "<Figure size 432x288 with 1 Axes>"
      ]
     },
     "metadata": {
      "needs_background": "light"
     },
     "output_type": "display_data"
    }
   ],
   "source": [
    "#Situacao Controlo a 10m\n",
    "plt.hist(concatenated_df[\"10m-control-1px\"].dropna(), bins=15, alpha=0.5, density=True, label=\"10m Controlo\")\n",
    "plt.hist(concatenated_df[\"10m-parede\"].dropna(), bins=15, alpha=0.5, density=True, label=\"Normal\")\n",
    "plt.legend()\n",
    "plt.ylabel('Probabilidade');\n",
    "plt.xlabel('Distância');\n",
    "\n",
    "media_10m_control = concatenated_df[\"10m-control-1px\"].mean()\n",
    "std_10m_control = concatenated_df[\"10m-control-1px\"].std()\n",
    "\n",
    "media_10m = concatenated_df[\"10m-parede\"].mean()\n",
    "std_10m = concatenated_df[\"10m-parede\"].std()\n",
    "\n"
   ]
  },
  {
   "cell_type": "markdown",
   "metadata": {},
   "source": [
    "|               | Média (mm)   | Desvio Padrão (mm)|\n",
    "| ------------- |-------------:|------------------:|\n",
    "| Controlo      | 11444.4      | 1226.34           |\n",
    "| ROI (25x25)   | 11452.5      | 1224.38           |\n",
    "\n",
    "\n",
    "Em todos os casos temos valores semelhantes, por isso a aproximação é válida"
   ]
  },
  {
   "cell_type": "markdown",
   "metadata": {},
   "source": [
    "## Superficies opacas"
   ]
  },
  {
   "cell_type": "markdown",
   "metadata": {},
   "source": [
    "\n",
    "| Valor Real (mm)    | Média (mm)   | Desvio Padrão (mm)|\n",
    "| ------------------ |-------------:|------------------:|\n",
    "| 200                | 181.37       | 0.48              |\n",
    "| 1000               | 1038.1       | 6.75              |\n",
    "| 3000               | 3153.42      | 78.97             |\n",
    "| 5000               | 5322.0       | 231.44            |\n",
    "| 7000               | 7706.77      | 723.22            |\n",
    "| 9000               | 10017.78     | 732.35            |\n",
    "| 10000              | 11452.5      | 1224.38           |"
   ]
  },
  {
   "cell_type": "code",
   "execution_count": 142,
   "metadata": {
    "ExecuteTime": {
     "end_time": "2020-12-15T19:00:34.677424Z",
     "start_time": "2020-12-15T19:00:34.338820Z"
    }
   },
   "outputs": [
    {
     "data": {
      "image/png": "[encoded data removed]",
      "text/plain": [
       "<Figure size 432x288 with 1 Axes>"
      ]
     },
     "metadata": {
      "needs_background": "light"
     },
     "output_type": "display_data"
    }
   ],
   "source": [
    "x = np.array([200, 1000, 3000, 5000, 7000, 9000, 10000])\n",
    "y = np.array([181.37, 1038.1, 3153.42, 5322, 7707.77, 10017.78, 11452.5])\n",
    "\n",
    "ey = np.array([0.48, 6.75, 78.97, 231.44, 723.22, 732.35, 1224.38])\n",
    "\n",
    "\n",
    "def inversion(array1):\n",
    "  return 1 / (array1)\n",
    "\n",
    "w = inversion(x) # pesos para o fit (Gaussian incertanty 1/sigma)\n",
    "\n",
    "m, b = np.polyfit(x, y, 1)\n",
    "\n",
    "t = np.linspace(0.0, 11000, 110)\n",
    "s = m*t+b\n",
    "\n",
    "\n",
    "plt.errorbar(x, y, ey, linestyle='None', marker='o')\n",
    "plt.plot(t,s, label=\"y=1.139x - 176.42\")\n",
    "plt.legend()\n",
    "plt.ylabel('Distância medida (mm)');\n",
    "plt.xlabel('Distância real (mm)');\n",
    "\n",
    "plt.show()"
   ]
  },
  {
   "cell_type": "markdown",
   "metadata": {
    "ExecuteTime": {
     "end_time": "2020-12-15T17:30:52.919117Z",
     "start_time": "2020-12-15T17:30:52.915068Z"
    }
   },
   "source": [
    "Como os dados se ajustam bem a uma reta é possível calibrar os dados obter melhores resultados e até medir distâncias superiores à prevista na Datasheet. No entanto não sabemos como é que as condições de iluminação afetam o declive da reta de calibração.\n",
    "\n",
    "### Condições de Iluminação\n"
   ]
  },
  {
   "cell_type": "code",
   "execution_count": 143,
   "metadata": {
    "ExecuteTime": {
     "end_time": "2020-12-15T19:00:35.439631Z",
     "start_time": "2020-12-15T19:00:34.684240Z"
    }
   },
   "outputs": [
    {
     "data": {
      "image/png": "[encoded data removed]",
      "text/plain": [
       "<Figure size 432x288 with 1 Axes>"
      ]
     },
     "metadata": {
      "needs_background": "light"
     },
     "output_type": "display_data"
    }
   ],
   "source": [
    "# Condições de iluminação\n",
    "plt.hist(concatenated_df[\"7m-parede\"].dropna(), bins=20, alpha=0.5, density=True, label=\"7m Boa Luminosidade\")\n",
    "plt.hist(concatenated_df[\"7m-sl-parede\"].dropna(), bins=20, alpha=0.5, density=True, label=\"7m Sem Luminosidade\")\n",
    "plt.legend()\n",
    "plt.ylabel('Probabilidade');\n",
    "plt.xlabel('Distância (mm)');"
   ]
  },
  {
   "cell_type": "markdown",
   "metadata": {},
   "source": [
    "|                          | Média (mm)   | Desvio Padrão (mm)|\n",
    "| ------------------------ |-------------:|------------------:|\n",
    "| 7m Boa Luminosidade      | 7706.77      | 723.22            |\n",
    "| 7m Sem Luminosidade      | 7839.98      | 523.96            |"
   ]
  },
  {
   "cell_type": "markdown",
   "metadata": {
    "ExecuteTime": {
     "end_time": "2020-12-15T17:56:17.557434Z",
     "start_time": "2020-12-15T17:56:17.549913Z"
    }
   },
   "source": [
    "É curioso ver que o desvio padrão em condições de iluminação seja menor."
   ]
  },
  {
   "cell_type": "markdown",
   "metadata": {},
   "source": [
    "## Superficies transparentes\n"
   ]
  },
  {
   "cell_type": "markdown",
   "metadata": {
    "ExecuteTime": {
     "end_time": "2020-12-15T18:08:19.287594Z",
     "start_time": "2020-12-15T18:08:19.278459Z"
    }
   },
   "source": [
    "| Valor Real (mm)    | Média (mm)   | Desvio Padrão (mm)|\n",
    "| ------------------ |-------------:|------------------:|\n",
    "| 200                | 217.76       | 15.22             |\n",
    "| 1000               | 2425.67      | 19.83             |\n",
    "| 2000               | 1562.53      | 1883.25           |\n",
    "| 5000               | 23895.21     | 17785.4           |\n",
    "| 10000              | -1416.40     | 3784.53           |\n",
    "\n"
   ]
  }
 ],
 "metadata": {
  "hide_input": false,
  "kernelspec": {
   "display_name": "Python 3",
   "language": "python",
   "name": "python3"
  },
  "language_info": {
   "codemirror_mode": {
    "name": "ipython",
    "version": 3
   },
   "file_extension": ".py",
   "mimetype": "text/x-python",
   "name": "python",
   "nbconvert_exporter": "python",
   "pygments_lexer": "ipython3",
   "version": "3.7.4"
  },
  "latex_envs": {
   "LaTeX_envs_menu_present": true,
   "autoclose": false,
   "autocomplete": true,
   "bibliofile": "biblio.bib",
   "cite_by": "apalike",
   "current_citInitial": 1,
   "eqLabelWithNumbers": true,
   "eqNumInitial": 1,
   "hotkeys": {
    "equation": "Ctrl-E",
    "itemize": "Ctrl-I"
   },
   "labels_anchors": false,
   "latex_user_defs": false,
   "report_style_numbering": false,
   "user_envs_cfg": false
  },
  "tags": "hide-input",
  "varInspector": {
   "cols": {
    "lenName": 16,
    "lenType": 16,
    "lenVar": 40
   },
   "kernels_config": {
    "python": {
     "delete_cmd_postfix": "",
     "delete_cmd_prefix": "del ",
     "library": "var_list.py",
     "varRefreshCmd": "print(var_dic_list())"
    },
    "r": {
     "delete_cmd_postfix": ") ",
     "delete_cmd_prefix": "rm(",
     "library": "var_list.r",
     "varRefreshCmd": "cat(var_dic_list()) "
    }
   },
   "types_to_exclude": [
    "module",
    "function",
    "builtin_function_or_method",
    "instance",
    "_Feature"
   ],
   "window_display": false
  }
 },
 "nbformat": 4,
 "nbformat_minor": 2
}
